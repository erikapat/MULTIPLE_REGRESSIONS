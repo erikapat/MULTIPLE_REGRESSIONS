{
 "cells": [
  {
   "cell_type": "code",
   "execution_count": null,
   "metadata": {},
   "outputs": [],
   "source": []
  },
  {
   "cell_type": "markdown",
   "metadata": {},
   "source": [
    "## **STATA: ipystata**\n",
    "\n",
    "* https://dev-ii-seminar.readthedocs.io/en/latest/notebooks/Stata_in_jupyter.html\n",
    "* https://github.com/TiesdeKok/ipystata"
   ]
  },
  {
   "cell_type": "code",
   "execution_count": 6,
   "metadata": {},
   "outputs": [
    {
     "name": "stdout",
     "output_type": "stream",
     "text": [
      "Collecting ipystata\n",
      "Installing collected packages: ipystata\n",
      "  Found existing installation: ipystata 0.3.8\n",
      "    Uninstalling ipystata-0.3.8:\n",
      "      Successfully uninstalled ipystata-0.3.8\n",
      "Successfully installed ipystata-0.3.8\n"
     ]
    }
   ],
   "source": [
    "##You can install IPyStata 0.3.0 using:\n",
    "#!pip install ipystata\n",
    "#!pip install git+https://github.com/jrfiedler/stata-kernel\n",
    "## You can update a previous installation to 0.3.0 using:\n",
    "!pip install ipystata --upgrade --force-reinstall"
   ]
  },
  {
   "cell_type": "code",
   "execution_count": 7,
   "metadata": {},
   "outputs": [],
   "source": [
    "%matplotlib inline\n",
    "import seaborn as sns\n",
    "import pandas as pd\n",
    "import statsmodels.formula.api as smf\n"
   ]
  },
  {
   "cell_type": "code",
   "execution_count": 12,
   "metadata": {},
   "outputs": [],
   "source": [
    "import ipystata"
   ]
  },
  {
   "cell_type": "code",
   "execution_count": 11,
   "metadata": {},
   "outputs": [
    {
     "data": {
      "text/plain": [
       "'Failed to open Stata'"
      ]
     },
     "execution_count": 11,
     "metadata": {},
     "output_type": "execute_result"
    }
   ],
   "source": [
    "%%stata\n",
    "sysuse lifeexp.dta\n",
    "summarize"
   ]
  },
  {
   "cell_type": "code",
   "execution_count": 4,
   "metadata": {},
   "outputs": [
    {
     "data": {
      "text/plain": [
       "'Failed to open Stata'"
      ]
     },
     "execution_count": 4,
     "metadata": {},
     "output_type": "execute_result"
    }
   ],
   "source": [
    "%%stata  \n",
    "pwd"
   ]
  },
  {
   "cell_type": "code",
   "execution_count": null,
   "metadata": {},
   "outputs": [],
   "source": []
  }
 ],
 "metadata": {
  "kernelspec": {
   "display_name": "Python 3",
   "language": "python",
   "name": "python3"
  },
  "language_info": {
   "codemirror_mode": {
    "name": "ipython",
    "version": 3
   },
   "file_extension": ".py",
   "mimetype": "text/x-python",
   "name": "python",
   "nbconvert_exporter": "python",
   "pygments_lexer": "ipython3",
   "version": "3.7.4"
  }
 },
 "nbformat": 4,
 "nbformat_minor": 4
}
